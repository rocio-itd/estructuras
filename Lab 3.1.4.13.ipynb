{
 "cells": [
  {
   "cell_type": "code",
   "execution_count": 21,
   "metadata": {},
   "outputs": [
    {
     "name": "stdout",
     "output_type": "stream",
     "text": [
      "Paso 1: []\n",
      "Paso 2: []\n",
      "Paso 3: ['John Lennon', 'Paul McCartney', 'George Harrison']\n",
      "Agregue los miembros de la banda Stu Sutcliffe, y Pete BestStu Sutcliffe\n",
      "Agregue los miembros de la banda Stu Sutcliffe, y Pete BestPete Best\n",
      "Paso 4: ['John Lennon', 'Paul McCartney', 'George Harrison', 'Stu Sutcliffe', 'Pete Best']\n",
      "Paso 5: ['Ringo Starr', 'John Lennon', 'Paul McCartney', 'George Harrison']\n",
      "Los Fab 4\n"
     ]
    }
   ],
   "source": [
    "# paso 1\n",
    "beatles = [ ]\n",
    "print(\"Paso 1:\", beatles)\n",
    "\n",
    "# paso 2\n",
    "print(\"Paso 2:\", beatles)\n",
    "beatles.append(\"John Lennon\")\n",
    "beatles.append(\"Paul McCartney\")\n",
    "beatles.append(\"George Harrison\")\n",
    "\n",
    "# paso 3\n",
    "print(\"Paso 3:\", beatles)\n",
    "\n",
    "for i in range(1,3):\n",
    "    agregar = input(\"Agregue los miembros de la banda Stu Sutcliffe, y Pete Best\")\n",
    "    beatles.append(agregar)\n",
    "\n",
    "# etapa 4\n",
    "print(\"Paso 4:\", beatles)\n",
    "del beatles [3]\n",
    "del beatles [3]\n",
    "\n",
    "# paso 5\n",
    "beatles.insert(0,\"Ringo Starr\")\n",
    "print(\"Paso 5:\", beatles)\n",
    "# probando la longitud de la lista\n",
    "print(\"Los Fab\", len(beatles))"
   ]
  },
  {
   "cell_type": "code",
   "execution_count": null,
   "metadata": {},
   "outputs": [],
   "source": []
  }
 ],
 "metadata": {
  "kernelspec": {
   "display_name": "Python 3",
   "language": "python",
   "name": "python3"
  },
  "language_info": {
   "codemirror_mode": {
    "name": "ipython",
    "version": 3
   },
   "file_extension": ".py",
   "mimetype": "text/x-python",
   "name": "python",
   "nbconvert_exporter": "python",
   "pygments_lexer": "ipython3",
   "version": "3.8.3"
  }
 },
 "nbformat": 4,
 "nbformat_minor": 4
}
