{
 "cells": [
  {
   "cell_type": "code",
   "execution_count": 5,
   "metadata": {},
   "outputs": [
    {
     "name": "stdout",
     "output_type": "stream",
     "text": [
      "Ingrese un numero a reemplazar: 22\n",
      "La longitud de la lista de Sombrero es:  4\n",
      "[1, 2, 22, 4]\n"
     ]
    }
   ],
   "source": [
    "listaSombrero = [1, 2, 3, 4, 5] # Esta es una lista existente de números ocultos en el sombrero.\n",
    "\n",
    "# Paso 1: escribe una línea de código que solicite al usuario\n",
    "# para reemplazar el número de en medio con un número entero ingresado por el usuario.\n",
    "\n",
    "listaSombrero [2] = int (input (\"Ingrese un numero a reemplazar: \"))\n",
    "\n",
    "# Paso 2: escribe aquí una línea de código que elimine el último elemento de la lista.\n",
    "del listaSombrero [4]\n",
    "\n",
    "# Paso 3: escribe aquí una línea de código que imprima la longitud de la lista existente.\n",
    "print (\"La longitud de la lista de Sombrero es: \", len (listaSombrero))\n",
    "\n",
    "print(listaSombrero)"
   ]
  },
  {
   "cell_type": "code",
   "execution_count": null,
   "metadata": {},
   "outputs": [],
   "source": []
  }
 ],
 "metadata": {
  "kernelspec": {
   "display_name": "Python 3",
   "language": "python",
   "name": "python3"
  },
  "language_info": {
   "codemirror_mode": {
    "name": "ipython",
    "version": 3
   },
   "file_extension": ".py",
   "mimetype": "text/x-python",
   "name": "python",
   "nbconvert_exporter": "python",
   "pygments_lexer": "ipython3",
   "version": "3.8.3"
  }
 },
 "nbformat": 4,
 "nbformat_minor": 4
}
