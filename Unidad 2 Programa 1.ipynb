{
 "cells": [
  {
   "cell_type": "markdown",
   "metadata": {},
   "source": [
    "# # Estructura de datos\n",
    "### Unidad 1\n",
    "#### Rocío Juárez Medrano"
   ]
  },
  {
   "cell_type": "code",
   "execution_count": 6,
   "metadata": {},
   "outputs": [],
   "source": [
    "deportes = [ \"Futbol\", \"Natación\", \"Tiro con arco\",\"Box\"] "
   ]
  },
  {
   "cell_type": "code",
   "execution_count": 7,
   "metadata": {},
   "outputs": [
    {
     "name": "stdout",
     "output_type": "stream",
     "text": [
      "Natación\n"
     ]
    }
   ],
   "source": [
    "# Acceder a una posicion especifica\n",
    "print(deportes [1])"
   ]
  },
  {
   "cell_type": "code",
   "execution_count": 8,
   "metadata": {},
   "outputs": [
    {
     "name": "stdout",
     "output_type": "stream",
     "text": [
      "['Futbol americano', 'Natación', 'Tiro con arco', 'Box']\n"
     ]
    }
   ],
   "source": [
    "#Modificar valores de la lista\n",
    "deportes [0] = \"Futbol americano\"\n",
    "print(deportes)"
   ]
  },
  {
   "cell_type": "code",
   "execution_count": null,
   "metadata": {},
   "outputs": [],
   "source": [
    "del deportes [0]"
   ]
  },
  {
   "cell_type": "code",
   "execution_count": null,
   "metadata": {},
   "outputs": [],
   "source": [
    "print(deportes)"
   ]
  },
  {
   "cell_type": "code",
   "execution_count": 5,
   "metadata": {},
   "outputs": [
    {
     "name": "stdout",
     "output_type": "stream",
     "text": [
      "La longitud de la lista de deportes es:  4\n"
     ]
    }
   ],
   "source": [
    "print (\"La longitud de la lista de deportes es: \", len (deportes))"
   ]
  },
  {
   "cell_type": "code",
   "execution_count": 9,
   "metadata": {},
   "outputs": [
    {
     "data": {
      "text/plain": [
       "'Box'"
      ]
     },
     "execution_count": 9,
     "metadata": {},
     "output_type": "execute_result"
    }
   ],
   "source": [
    "# se pueden utilizar valores negativos en el indice\n",
    "#para hacer una lectura de derecha a izquierda\n",
    "#empezando desde -1 que seria el ultimo valor de la lista\n",
    "deportes [-1]"
   ]
  },
  {
   "cell_type": "code",
   "execution_count": null,
   "metadata": {},
   "outputs": [],
   "source": [
    "# No agrega nada al ultimo elemento de la lista\n",
    "deportes [-4]"
   ]
  },
  {
   "cell_type": "code",
   "execution_count": 12,
   "metadata": {},
   "outputs": [
    {
     "name": "stdout",
     "output_type": "stream",
     "text": [
      "['Futbol americano', 'Natación', 'Tiro con arco', 'Box', 'Golf']\n"
     ]
    }
   ],
   "source": [
    "#Agregar elementos a la lista\n",
    "# metodos APPEND Lo agrega al final de la lista\n",
    "# metodo Insert lo agrega en posiscion especifica\n",
    "deportes.append(\"Golf\")\n",
    "print (deportes)"
   ]
  },
  {
   "cell_type": "code",
   "execution_count": 15,
   "metadata": {},
   "outputs": [
    {
     "name": "stdout",
     "output_type": "stream",
     "text": [
      "['Futbol americano', 'valley ball', 'Natación', 'Tiro con arco', 'Box', 'Golf']\n"
     ]
    }
   ],
   "source": [
    "deportes.insert(1,\"valley ball\")\n",
    "print (deportes)"
   ]
  },
  {
   "cell_type": "code",
   "execution_count": 12,
   "metadata": {},
   "outputs": [
    {
     "ename": "NameError",
     "evalue": "name 'deportes' is not defined",
     "output_type": "error",
     "traceback": [
      "\u001b[1;31m---------------------------------------------------------------------------\u001b[0m",
      "\u001b[1;31mNameError\u001b[0m                                 Traceback (most recent call last)",
      "\u001b[1;32m<ipython-input-12-ebcfe0f85ff5>\u001b[0m in \u001b[0;36m<module>\u001b[1;34m\u001b[0m\n\u001b[1;32m----> 1\u001b[1;33m \u001b[0mdeportes\u001b[0m\u001b[1;33m.\u001b[0m\u001b[0minsert\u001b[0m\u001b[1;33m(\u001b[0m\u001b[1;36m0\u001b[0m\u001b[1;33m,\u001b[0m\u001b[1;34m\"Basquet ball\"\u001b[0m\u001b[1;33m)\u001b[0m\u001b[1;33m\u001b[0m\u001b[1;33m\u001b[0m\u001b[0m\n\u001b[0m\u001b[0;32m      2\u001b[0m \u001b[0mprint\u001b[0m \u001b[1;33m(\u001b[0m\u001b[0mdeportes\u001b[0m\u001b[1;33m)\u001b[0m\u001b[1;33m\u001b[0m\u001b[1;33m\u001b[0m\u001b[0m\n",
      "\u001b[1;31mNameError\u001b[0m: name 'deportes' is not defined"
     ]
    }
   ],
   "source": [
    "deportes.insert(0,\"Basquet ball\")\n",
    "print (deportes)"
   ]
  },
  {
   "cell_type": "code",
   "execution_count": 16,
   "metadata": {},
   "outputs": [
    {
     "name": "stdout",
     "output_type": "stream",
     "text": [
      "La longitud de la lista de deportes es:  6\n"
     ]
    }
   ],
   "source": [
    "print (\"La longitud de la lista de deportes es: \", len (deportes))"
   ]
  },
  {
   "cell_type": "code",
   "execution_count": 17,
   "metadata": {},
   "outputs": [
    {
     "name": "stdout",
     "output_type": "stream",
     "text": [
      "Futbol americano\n",
      "valley ball\n",
      "Natación\n",
      "Tiro con arco\n",
      "Box\n",
      "Golf\n"
     ]
    }
   ],
   "source": [
    "#ciclo para recorrrer los valores de una lista\n",
    "for x in deportes:\n",
    "    print (x)"
   ]
  },
  {
   "cell_type": "code",
   "execution_count": 20,
   "metadata": {},
   "outputs": [
    {
     "name": "stdout",
     "output_type": "stream",
     "text": [
      "Golf no se encuentra en la lista de deportes\n"
     ]
    }
   ],
   "source": [
    "if \"Golf\" in deportes:\n",
    "    print (\"Golf si se encuentra en la lista de deportes\")\n",
    "else:\n",
    "    print (\"Golf no se encuentra en la lista de deportes\")"
   ]
  },
  {
   "cell_type": "code",
   "execution_count": 21,
   "metadata": {},
   "outputs": [
    {
     "name": "stdout",
     "output_type": "stream",
     "text": [
      "[]\n"
     ]
    }
   ],
   "source": [
    "#lista vacia\n",
    "listanumeros = []\n",
    "print (listanumeros)"
   ]
  },
  {
   "cell_type": "code",
   "execution_count": 27,
   "metadata": {},
   "outputs": [
    {
     "name": "stdout",
     "output_type": "stream",
     "text": [
      "[1, 2, 3, 4, 1, 2, 3, 4, 1, 2, 3, 4, 1, 2, 3, 4]\n"
     ]
    }
   ],
   "source": [
    "for i in range(1,5):\n",
    "    listanumeros.append(i)\n",
    "    \n",
    "print (listanumeros)"
   ]
  },
  {
   "cell_type": "code",
   "execution_count": 1,
   "metadata": {},
   "outputs": [
    {
     "name": "stdout",
     "output_type": "stream",
     "text": [
      "27\n"
     ]
    }
   ],
   "source": [
    "miLista = [10, 1, 8, 3, 5]\n",
    "suma = 0\n",
    "\n",
    "for i in range(len(miLista)):\n",
    "    suma += miLista[i]\n",
    "\n",
    "print(suma)"
   ]
  },
  {
   "cell_type": "code",
   "execution_count": 3,
   "metadata": {},
   "outputs": [
    {
     "name": "stdout",
     "output_type": "stream",
     "text": [
      "1 1\n"
     ]
    }
   ],
   "source": [
    "variable1 = 1\n",
    "variable2 = 2\n",
    "\n",
    "variable2 = variable1\n",
    "variable1 = variable2 \n",
    "\n",
    "print(variable1,variable2)"
   ]
  },
  {
   "cell_type": "code",
   "execution_count": 9,
   "metadata": {},
   "outputs": [
    {
     "name": "stdout",
     "output_type": "stream",
     "text": [
      "2 1\n"
     ]
    }
   ],
   "source": [
    "#reasignando valores con variable auxiliar\n",
    "variable1 = 1\n",
    "variable2 = 2\n",
    "\n",
    "auxiliar = variable1\n",
    "variable1 = variable2\n",
    "variable2 = auxiliar\n",
    "\n",
    "print(variable1,variable2)"
   ]
  },
  {
   "cell_type": "code",
   "execution_count": 10,
   "metadata": {},
   "outputs": [
    {
     "name": "stdout",
     "output_type": "stream",
     "text": [
      "2 1\n"
     ]
    }
   ],
   "source": [
    "#reasignando valores en un solo paso\n",
    "variable1 = 1\n",
    "variable2 = 2\n",
    "\n",
    "variable1, variable2 = variable2, variable1 \n",
    "print(variable1,variable2)"
   ]
  },
  {
   "cell_type": "code",
   "execution_count": 13,
   "metadata": {},
   "outputs": [
    {
     "name": "stdout",
     "output_type": "stream",
     "text": [
      "[5, 3, 8, 1, 10]\n"
     ]
    }
   ],
   "source": [
    "miLista = [10, 1, 8, 3, 5]\n",
    "\n",
    "miLista [0], miLista [4] = miLista [4], miLista [0]\n",
    "miLista [1], miLista [3] = miLista [3], miLista [1]\n",
    "\n",
    "print(miLista)"
   ]
  },
  {
   "cell_type": "code",
   "execution_count": null,
   "metadata": {},
   "outputs": [],
   "source": []
  }
 ],
 "metadata": {
  "kernelspec": {
   "display_name": "Python 3",
   "language": "python",
   "name": "python3"
  },
  "language_info": {
   "codemirror_mode": {
    "name": "ipython",
    "version": 3
   },
   "file_extension": ".py",
   "mimetype": "text/x-python",
   "name": "python",
   "nbconvert_exporter": "python",
   "pygments_lexer": "ipython3",
   "version": "3.8.3"
  }
 },
 "nbformat": 4,
 "nbformat_minor": 4
}
