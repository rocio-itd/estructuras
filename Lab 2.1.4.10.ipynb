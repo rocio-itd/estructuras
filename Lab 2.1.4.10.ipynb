{
 "cells": [
  {
   "cell_type": "code",
   "execution_count": 14,
   "metadata": {},
   "outputs": [
    {
     "name": "stdout",
     "output_type": "stream",
     "text": [
      "y = -1.0\n",
      "y = 3.0\n",
      "y = -9.0\n"
     ]
    }
   ],
   "source": [
    "# 3x3 - 2x2 + 3x - 1\n",
    "\n",
    "x = float(0)\n",
    "\n",
    "y = (3 * x**3) - (2 * x**2) + (3 * x) - 1\n",
    "\n",
    "print(\"y =\", y)\n",
    "\n",
    "x = float(1)\n",
    "\n",
    "y = (3 * x**3) - (2 * x**2) + (3 * x) - 1\n",
    "\n",
    "print(\"y =\", y)\n",
    "\n",
    "x = float(-1)\n",
    "\n",
    "y = (3 * x**3) - (2 * x**2) + (3 * x) - 1\n",
    "\n",
    "print(\"y =\", y)"
   ]
  },
  {
   "cell_type": "code",
   "execution_count": null,
   "metadata": {},
   "outputs": [],
   "source": []
  }
 ],
 "metadata": {
  "kernelspec": {
   "display_name": "Python 3",
   "language": "python",
   "name": "python3"
  },
  "language_info": {
   "codemirror_mode": {
    "name": "ipython",
    "version": 3
   },
   "file_extension": ".py",
   "mimetype": "text/x-python",
   "name": "python",
   "nbconvert_exporter": "python",
   "pygments_lexer": "ipython3",
   "version": "3.8.3"
  }
 },
 "nbformat": 4,
 "nbformat_minor": 4
}
