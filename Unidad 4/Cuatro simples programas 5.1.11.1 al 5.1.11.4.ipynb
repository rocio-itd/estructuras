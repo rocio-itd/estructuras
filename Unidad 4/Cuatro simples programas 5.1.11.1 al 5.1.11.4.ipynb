{
 "cells": [
  {
   "cell_type": "code",
   "execution_count": 2,
   "metadata": {},
   "outputs": [
    {
     "name": "stdout",
     "output_type": "stream",
     "text": [
      "Ingresa tu mensaje: Rocio\n",
      "SPDJP\n"
     ]
    }
   ],
   "source": [
    "# 5.1.11.1\n",
    "# Cifrado César\n",
    "text = input(\"Ingresa tu mensaje: \") #pide al usuario que ingrese un mensaje (sin cifrar) de una línea.\n",
    "cifrado = '' #prepara una cadena para el mensaje cifrado (esta vacía por ahora).\n",
    "for char in text: #inicia la iteración a través del mensaje.\n",
    "    if not char.isalpha(): #si el caracter actual no es alfabético...\n",
    "        continue #ignorarlo\n",
    "    char = char.upper() #convierta la letra a mayúsculas (es preferible hacerlo a ciegas, en lugar de verificar si es necesario o no).\n",
    "    code = ord(char) + 1 # obtén el código de la letra e increméntalo en uno\n",
    "    if code > ord('Z'): # si el código resultante ha \"dejado\" el alfabeto latino (si es mayor que el código de la Z)...\n",
    "        code = ord('A') #cámbialo al código de la A.\n",
    "    cifrado += chr(code) #agrega el carácter recibido al final del mensaje cifrado\n",
    "\n",
    "print(cifrado) # imprime el cifrado"
   ]
  },
  {
   "cell_type": "code",
   "execution_count": 3,
   "metadata": {},
   "outputs": [
    {
     "name": "stdout",
     "output_type": "stream",
     "text": [
      "Ingresa tu criptograma: AVE CAESAR\n",
      "ZUDBZDRZQ\n"
     ]
    }
   ],
   "source": [
    "# 5.1.11.2\n",
    "# Cifrado César - descifrar un mensaje\n",
    "cifrado = input('Ingresa tu criptograma: ')\n",
    "text = ''\n",
    "for char in cifrado:\n",
    "    if not char.isalpha():\n",
    "        continue\n",
    "    char = char.upper()\n",
    "    code = ord(char) - 1\n",
    "    if code < ord('A'):\n",
    "        code = ord('Z')\n",
    "    text += chr(code)\n",
    "\n",
    "print(text)"
   ]
  },
  {
   "cell_type": "code",
   "execution_count": 4,
   "metadata": {},
   "outputs": [
    {
     "name": "stdout",
     "output_type": "stream",
     "text": [
      "Ingresa una línea de números, sepáralos con espacios: 55 55 22\n",
      "El total es: 132.0\n"
     ]
    }
   ],
   "source": [
    "# 5.1.11.3\n",
    "#Procesador de números\n",
    "\n",
    "linea = input(\"Ingresa una línea de números, sepáralos con espacios: \") #pide al usuario que ingrese una línea llena de cualquier cantidad de números (los números pueden ser flotantes)\n",
    "strings = linea.split() #divide la línea en una lista con subcadenas\n",
    "total = 0 #se inicializa la suma total a cero\n",
    "#como la conversión de cadena a flotante puede generar una excepción, es mejor continuar con la protección del bloque try-except.\n",
    "La línea 07: itera a través de la lista...\n",
    "try:\n",
    "    for substr in strings: #itera a través de la lista.\n",
    "        total += float(substr) #e intenta convertir todos sus elementos en números flotantes; si funciona, aumenta la suma.\n",
    "    print(\"El total es:\", total) # todo está bien hasta ahora, así que imprime la suma.\n",
    "except:\n",
    "    print(substr, \"no es un numero.\") #el programa termina aquí en caso de error\n",
    "    #imprime un mensaje de diagnóstico que muestra al usuario el motivo del error."
   ]
  },
  {
   "cell_type": "code",
   "execution_count": 7,
   "metadata": {},
   "outputs": [
    {
     "name": "stdout",
     "output_type": "stream",
     "text": [
      "Ingresa IBAN, por favor: GB72 HBZU 7006 7212 1253 00\n",
      "El IBAN ingresado es válido.\n"
     ]
    }
   ],
   "source": [
    "# 5.1.11.4\n",
    "# Validador IBAN\n",
    "\n",
    "iban = input(\"Ingresa IBAN, por favor: \") #pide al usuario que ingrese el IBAN (el número puede contener espacios, ya que mejoran significativamente la legibilidad del número...\n",
    "iban = iban.replace(' ','') #pero remueve los espacios de inmediato)\n",
    "if not iban.isalnum(): #el IBAN ingresado debe constar solo de dígitos y letras, de lo contrario...\n",
    "    print(\"Has introducido caracteres no válidos.\") #muestra un mensaje\n",
    "elif len(iban) < 15: # el IBAN no debe tener menos de 15 caracteres (esta es la variante más corta, utilizada en Noruega).\n",
    "    print(\"El IBAN ingresado es demasiado corto.\") #si es más corto, se informa al usuario.\n",
    "elif len(iban) > 31: #el IBAN no puede tener más de 31 caracteres (esta es la variante más larga, utilizada en Malta)\n",
    "    print(\"El IBAN ingresado es demasiado largo.\") #si es más largo, se le informa al usuario\n",
    "else: #\n",
    "    iban = (iban[4:] + iban[0:4]).upper() #se mueven los cuatro caracteres iniciales al final del número y se convierten todas las letras a mayúsculas (paso 02 del algoritmo)\n",
    "    iban2 = '' #esta es la variable utilizada para completar el número, creada al reemplazar las letras con dígitos (de acuerdo con el paso 03 del algoritmo)\n",
    "    for ch in iban: #iterar a través del IBAN\n",
    "        if ch.isdigit(): #si el caracter es un digito\n",
    "            iban2 += ch #  se copia\n",
    "        else: #si no\n",
    "            iban2 += str(10 + ord(ch) - ord('A')) #conviértelo en dos dígitos\n",
    "    ibann = int(iban2) #la forma convertida del IBAN está lista: ahora se convierte en un número entero\n",
    "    if ibann % 97 == 1: #¿el residuo de la división de iban2 entre 97 es igual a 1?\n",
    "        print(\"El IBAN ingresado es válido.\") #si es así, entonces el número es correcto\n",
    "    else: #si no\n",
    "        print(\"El IBAN ingresado no es válido.\") #el número no es válido\n",
    "        "
   ]
  },
  {
   "cell_type": "code",
   "execution_count": null,
   "metadata": {},
   "outputs": [],
   "source": []
  }
 ],
 "metadata": {
  "kernelspec": {
   "display_name": "Python 3",
   "language": "python",
   "name": "python3"
  },
  "language_info": {
   "codemirror_mode": {
    "name": "ipython",
    "version": 3
   },
   "file_extension": ".py",
   "mimetype": "text/x-python",
   "name": "python",
   "nbconvert_exporter": "python",
   "pygments_lexer": "ipython3",
   "version": "3.8.3"
  }
 },
 "nbformat": 4,
 "nbformat_minor": 4
}
