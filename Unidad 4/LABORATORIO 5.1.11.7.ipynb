{
 "cells": [
  {
   "cell_type": "code",
   "execution_count": 5,
   "metadata": {},
   "outputs": [
    {
     "name": "stdout",
     "output_type": "stream",
     "text": [
      "Escribe una frase: Ten animals I slam in a net\n",
      "Es un palíndromo.\n"
     ]
    }
   ],
   "source": [
    "texto = input(\"Escribe una frase: \")\n",
    "\n",
    "texto = texto.replace(' ', '') #sirve para remplazar los espacios\n",
    "texto = texto.lower() #cambia las mayusculas a minusculas\n",
    "\n",
    "textoInver = reversed(texto) #invierte el texto\n",
    "\n",
    "if list(texto) == list(textoInver):\n",
    "    print(\"Es un palíndromo.\")\n",
    "else:\n",
    "    print(\"No es un palíndromo.\")"
   ]
  },
  {
   "cell_type": "code",
   "execution_count": null,
   "metadata": {},
   "outputs": [],
   "source": []
  }
 ],
 "metadata": {
  "kernelspec": {
   "display_name": "Python 3",
   "language": "python",
   "name": "python3"
  },
  "language_info": {
   "codemirror_mode": {
    "name": "ipython",
    "version": 3
   },
   "file_extension": ".py",
   "mimetype": "text/x-python",
   "name": "python",
   "nbconvert_exporter": "python",
   "pygments_lexer": "ipython3",
   "version": "3.8.3"
  }
 },
 "nbformat": 4,
 "nbformat_minor": 4
}
