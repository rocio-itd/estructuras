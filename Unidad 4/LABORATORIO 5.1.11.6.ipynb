{
 "cells": [
  {
   "cell_type": "code",
   "execution_count": 35,
   "metadata": {},
   "outputs": [
    {
     "name": "stdout",
     "output_type": "stream",
     "text": [
      "Escriba una línea de texto para encriptar: abcxyzABCxyz 123\n",
      "Escriba el valor de cambio (del 1 al 25): 2\n",
      "Texto codificado: cdezabCDEzab 123\n"
     ]
    }
   ],
   "source": [
    "encriptar = input(\"Escriba una línea de texto para encriptar: \")# Entrada de datos\n",
    "\n",
    "n = int(input(\"Escriba el valor de cambio (del 1 al 25): \"))# se pide el valor de cambio\n",
    "\n",
    "letras = list(string.ascii_lowercase + string.ascii_letters)# letras a utilizar\n",
    "\n",
    "r = \"\"# variable para guardar el mensaje\n",
    "\n",
    "for i in encriptar:# se repite por cada letra del mensaje\n",
    "    \n",
    "    if i in letras:# si la letra está en el abecedario entonces se sustituye\n",
    "        y = letras.index(i)\n",
    "       \n",
    "        z = (y + n) % len(letras) # Sumamos para movernos a la derecha de las letras\n",
    "        r+= letras[z]\n",
    "    else:\n",
    "        \n",
    "        r+= i# añadir abecedario\n",
    "\n",
    "print(\"Texto codificado:\", r)"
   ]
  },
  {
   "cell_type": "code",
   "execution_count": null,
   "metadata": {},
   "outputs": [],
   "source": []
  }
 ],
 "metadata": {
  "kernelspec": {
   "display_name": "Python 3",
   "language": "python",
   "name": "python3"
  },
  "language_info": {
   "codemirror_mode": {
    "name": "ipython",
    "version": 3
   },
   "file_extension": ".py",
   "mimetype": "text/x-python",
   "name": "python",
   "nbconvert_exporter": "python",
   "pygments_lexer": "ipython3",
   "version": "3.8.3"
  }
 },
 "nbformat": 4,
 "nbformat_minor": 4
}
