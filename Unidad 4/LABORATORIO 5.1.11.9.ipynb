{
 "cells": [
  {
   "cell_type": "code",
   "execution_count": 18,
   "metadata": {},
   "outputs": [
    {
     "name": "stdout",
     "output_type": "stream",
     "text": [
      "Ingrese su fecha de cumpleaños (en números) 19991229\n",
      "6\n"
     ]
    }
   ],
   "source": [
    "fechaC = int(input(\"Ingrese su fecha de cumpleaños (en números) \")) \n",
    "\n",
    "def metodo(fechaC):\n",
    "   \n",
    "    suma = 0\n",
    "\n",
    "    while fechaC:\n",
    "        suma += fechaC % 10 #obtenemos el último dígito\n",
    "        fechaC = fechaC // 10 #se usa para realizar divisiones enteras\n",
    "\n",
    "    if suma > 9:\n",
    "        return metodo(suma)\n",
    "\n",
    "    return suma # devuelve el valor de la suma\n",
    "\n",
    "\n",
    "print(metodo(fechaC))"
   ]
  },
  {
   "cell_type": "code",
   "execution_count": null,
   "metadata": {},
   "outputs": [],
   "source": []
  }
 ],
 "metadata": {
  "kernelspec": {
   "display_name": "Python 3",
   "language": "python",
   "name": "python3"
  },
  "language_info": {
   "codemirror_mode": {
    "name": "ipython",
    "version": 3
   },
   "file_extension": ".py",
   "mimetype": "text/x-python",
   "name": "python",
   "nbconvert_exporter": "python",
   "pygments_lexer": "ipython3",
   "version": "3.8.3"
  }
 },
 "nbformat": 4,
 "nbformat_minor": 4
}
