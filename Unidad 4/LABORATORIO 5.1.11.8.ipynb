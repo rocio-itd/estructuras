{
 "cells": [
  {
   "cell_type": "code",
   "execution_count": 8,
   "metadata": {},
   "outputs": [
    {
     "name": "stdout",
     "output_type": "stream",
     "text": [
      "Escriba la palabra 1: listen\n",
      "Escriba la palabra 2: silent\n",
      "Anagramas\n"
     ]
    }
   ],
   "source": [
    "def comAnagrama(palabra1, palabra2):\n",
    "    \n",
    "    palabra1 = palabra1.lower() #cambia las mayusculas a minusculas\n",
    "    palabra1 = palabra1.replace(\" \", \"\")\n",
    "    palabra2 = palabra2.lower()\n",
    "    palabra2 = palabra2.replace(\" \", \"\")#sirve para remplazar los espacios\n",
    "\n",
    "    if(sorted(palabra1)== sorted(palabra2)): \n",
    "        print(\"Anagramas\")  \n",
    "    else: \n",
    "        print(\"No son Anagramas\")          \n",
    "          \n",
    "palabra1 = input(\"Escriba la palabra 1: \")\n",
    "palabra2 = input(\"Escriba la palabra 2: \")\n",
    "\n",
    "comAnagrama(palabra1, palabra2)"
   ]
  },
  {
   "cell_type": "code",
   "execution_count": null,
   "metadata": {},
   "outputs": [],
   "source": []
  }
 ],
 "metadata": {
  "kernelspec": {
   "display_name": "Python 3",
   "language": "python",
   "name": "python3"
  },
  "language_info": {
   "codemirror_mode": {
    "name": "ipython",
    "version": 3
   },
   "file_extension": ".py",
   "mimetype": "text/x-python",
   "name": "python",
   "nbconvert_exporter": "python",
   "pygments_lexer": "ipython3",
   "version": "3.8.3"
  }
 },
 "nbformat": 4,
 "nbformat_minor": 4
}
