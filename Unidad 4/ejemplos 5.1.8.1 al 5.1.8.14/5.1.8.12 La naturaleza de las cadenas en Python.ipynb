{
 "cells": [
  {
   "cell_type": "code",
   "execution_count": 1,
   "metadata": {},
   "outputs": [
    {
     "name": "stdout",
     "output_type": "stream",
     "text": [
      "z\n"
     ]
    }
   ],
   "source": [
    "# Demostrando max() - Ejemplo 1\n",
    "print(max(\"aAbByYzZ\"))"
   ]
  },
  {
   "cell_type": "code",
   "execution_count": 2,
   "metadata": {},
   "outputs": [
    {
     "name": "stdout",
     "output_type": "stream",
     "text": [
      "[¡]\n",
      "2\n"
     ]
    }
   ],
   "source": [
    "# Demonstrando max() \n",
    "# encuentra el elemento máximo de la secuencia\n",
    "t = 'Los Caballeros Que Dicen \"¡Ni!\"'\n",
    "print('[' + max(t) + ']')\n",
    "\n",
    "t = [0, 1, 2]\n",
    "print(max(t))"
   ]
  },
  {
   "cell_type": "code",
   "execution_count": null,
   "metadata": {},
   "outputs": [],
   "source": []
  }
 ],
 "metadata": {
  "kernelspec": {
   "display_name": "Python 3",
   "language": "python",
   "name": "python3"
  },
  "language_info": {
   "codemirror_mode": {
    "name": "ipython",
    "version": 3
   },
   "file_extension": ".py",
   "mimetype": "text/x-python",
   "name": "python",
   "nbconvert_exporter": "python",
   "pygments_lexer": "ipython3",
   "version": "3.8.3"
  }
 },
 "nbformat": 4,
 "nbformat_minor": 4
}
