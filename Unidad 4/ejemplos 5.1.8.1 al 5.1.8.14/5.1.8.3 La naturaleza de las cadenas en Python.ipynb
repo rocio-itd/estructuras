{
 "cells": [
  {
   "cell_type": "code",
   "execution_count": 2,
   "metadata": {},
   "outputs": [
    {
     "name": "stdout",
     "output_type": "stream",
     "text": [
      "ab\n",
      "ba\n",
      "aaaaa\n",
      "bbbb\n"
     ]
    }
   ],
   "source": [
    "str1 = 'a'\n",
    "str2 = 'b'\n",
    "\n",
    "print(str1 + str2) # la realiza el operador + y es empleado en dos o más cadenas y produce una nueva cadena que contiene todos los caracteres de sus argumentos (no es una suma)\n",
    "print(str2 + str1)\n",
    "print(5 * 'a') #no es una multiplicacion\n",
    "print('b' * 4) #El operador * necesita una cadena y un número como argumentos; en este caso, el orden no importa\n",
    "\n",
    "#Los atajos de los operadores anteriores también son aplicables para las cadenas (+= y *=)"
   ]
  },
  {
   "cell_type": "code",
   "execution_count": null,
   "metadata": {},
   "outputs": [],
   "source": []
  }
 ],
 "metadata": {
  "kernelspec": {
   "display_name": "Python 3",
   "language": "python",
   "name": "python3"
  },
  "language_info": {
   "codemirror_mode": {
    "name": "ipython",
    "version": 3
   },
   "file_extension": ".py",
   "mimetype": "text/x-python",
   "name": "python",
   "nbconvert_exporter": "python",
   "pygments_lexer": "ipython3",
   "version": "3.8.3"
  }
 },
 "nbformat": 4,
 "nbformat_minor": 4
}
