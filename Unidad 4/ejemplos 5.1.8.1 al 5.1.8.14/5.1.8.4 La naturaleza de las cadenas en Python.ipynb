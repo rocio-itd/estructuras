{
 "cells": [
  {
   "cell_type": "code",
   "execution_count": null,
   "metadata": {},
   "outputs": [],
   "source": [
    "# Demostrando la función ord ()\n",
    "\n",
    "ch1 = 'a' \n",
    "ch2 = ' ' # espacio\n",
    "\n",
    "print(ord(ch1)) #el ord sirve para saber el valor del punto de código ASCII/UNICODE de un caracter específico\n",
    "print(ord(ch2)) #La función necesita una cadena de un caracter como argumento para que no produzca un error\n"
   ]
  }
 ],
 "metadata": {
  "kernelspec": {
   "display_name": "Python 3",
   "language": "python",
   "name": "python3"
  },
  "language_info": {
   "codemirror_mode": {
    "name": "ipython",
    "version": 3
   },
   "file_extension": ".py",
   "mimetype": "text/x-python",
   "name": "python",
   "nbconvert_exporter": "python",
   "pygments_lexer": "ipython3",
   "version": "3.8.3"
  }
 },
 "nbformat": 4,
 "nbformat_minor": 4
}
