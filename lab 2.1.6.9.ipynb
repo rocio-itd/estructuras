{
 "cells": [
  {
   "cell_type": "code",
   "execution_count": 3,
   "metadata": {},
   "outputs": [
    {
     "name": "stdout",
     "output_type": "stream",
     "text": [
      "Inserte el primer numero : 6\n",
      "Inserte el segundo numero: 6\n",
      "\n",
      "La suma es:  12.0\n",
      "La resta es:  0.0\n",
      "La multiplicacion es:  36.0\n",
      "La division es:  1.0\n",
      "\n",
      "¡Eso es todo, amigos!\n"
     ]
    }
   ],
   "source": [
    "# operacion aritmetica\n",
    "a = float(input(\"Inserte el primer numero : \"))\n",
    "b = float(input(\"Inserte el segundo numero: \"))\n",
    "\n",
    "suma = a + b\n",
    "resta = a - b\n",
    "multiplicacion = a * b\n",
    "division = a / b\n",
    "\n",
    "print(\"\\nLa suma es: \", suma)\n",
    "print(\"La resta es: \", resta)\n",
    "print(\"La multiplicacion es: \", multiplicacion)\n",
    "print(\"La division es: \", division)\n",
    "\n",
    "\n",
    "print(\"\\n¡Eso es todo, amigos!\")"
   ]
  },
  {
   "cell_type": "code",
   "execution_count": null,
   "metadata": {},
   "outputs": [],
   "source": []
  }
 ],
 "metadata": {
  "kernelspec": {
   "display_name": "Python 3",
   "language": "python",
   "name": "python3"
  },
  "language_info": {
   "codemirror_mode": {
    "name": "ipython",
    "version": 3
   },
   "file_extension": ".py",
   "mimetype": "text/x-python",
   "name": "python",
   "nbconvert_exporter": "python",
   "pygments_lexer": "ipython3",
   "version": "3.8.3"
  }
 },
 "nbformat": 4,
 "nbformat_minor": 4
}
