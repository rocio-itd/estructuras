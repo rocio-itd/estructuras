{
 "cells": [
  {
   "cell_type": "code",
   "execution_count": 1,
   "metadata": {},
   "outputs": [
    {
     "ename": "NameError",
     "evalue": "name 'clave1' is not defined",
     "output_type": "error",
     "traceback": [
      "\u001b[1;31m---------------------------------------------------------------------------\u001b[0m",
      "\u001b[1;31mNameError\u001b[0m                                 Traceback (most recent call last)",
      "\u001b[1;32m<ipython-input-1-9a632d07b9da>\u001b[0m in \u001b[0;36m<module>\u001b[1;34m\u001b[0m\n\u001b[0;32m      1\u001b[0m \u001b[1;31m# Los diccionarios son *colecciones indexadas de datos, mutables y desordenadas.\u001b[0m\u001b[1;33m\u001b[0m\u001b[1;33m\u001b[0m\u001b[1;33m\u001b[0m\u001b[0m\n\u001b[0;32m      2\u001b[0m miDictionario = {\n\u001b[1;32m----> 3\u001b[1;33m     \u001b[0mclave1\u001b[0m \u001b[1;33m:\u001b[0m \u001b[0mvalor1\u001b[0m\u001b[1;33m,\u001b[0m\u001b[1;33m\u001b[0m\u001b[1;33m\u001b[0m\u001b[0m\n\u001b[0m\u001b[0;32m      4\u001b[0m     \u001b[0mclave2\u001b[0m \u001b[1;33m:\u001b[0m \u001b[0mvalor2\u001b[0m\u001b[1;33m,\u001b[0m\u001b[1;33m\u001b[0m\u001b[1;33m\u001b[0m\u001b[0m\n\u001b[0;32m      5\u001b[0m     \u001b[0mclave3\u001b[0m \u001b[1;33m:\u001b[0m \u001b[0mvalor3\u001b[0m\u001b[1;33m,\u001b[0m\u001b[1;33m\u001b[0m\u001b[1;33m\u001b[0m\u001b[0m\n",
      "\u001b[1;31mNameError\u001b[0m: name 'clave1' is not defined"
     ]
    }
   ],
   "source": [
    "# Los diccionarios son *colecciones indexadas de datos, mutables y desordenadas.\n",
    "miDictionario = {\n",
    "    clave1 : valor1,\n",
    "    clave2 : valor2,\n",
    "    clave3 : valor3,\n",
    "    }"
   ]
  },
  {
   "cell_type": "code",
   "execution_count": 5,
   "metadata": {},
   "outputs": [
    {
     "ename": "NameError",
     "evalue": "name 'elmento1' is not defined",
     "output_type": "error",
     "traceback": [
      "\u001b[1;31m---------------------------------------------------------------------------\u001b[0m",
      "\u001b[1;31mNameError\u001b[0m                                 Traceback (most recent call last)",
      "\u001b[1;32m<ipython-input-5-80df3960255e>\u001b[0m in \u001b[0;36m<module>\u001b[1;34m\u001b[0m\n\u001b[0;32m      7\u001b[0m \u001b[1;33m\u001b[0m\u001b[0m\n\u001b[0;32m      8\u001b[0m \u001b[0melemento1\u001b[0m \u001b[1;33m=\u001b[0m \u001b[0mpolEspDict\u001b[0m\u001b[1;33m[\u001b[0m\u001b[1;34m\"gleba\"\u001b[0m\u001b[1;33m]\u001b[0m    \u001b[1;31m# ejemplo 1\u001b[0m\u001b[1;33m\u001b[0m\u001b[1;33m\u001b[0m\u001b[0m\n\u001b[1;32m----> 9\u001b[1;33m \u001b[0mprint\u001b[0m\u001b[1;33m(\u001b[0m\u001b[0melmento1\u001b[0m\u001b[1;33m)\u001b[0m    \u001b[1;31m# salida: tierra\u001b[0m\u001b[1;33m\u001b[0m\u001b[1;33m\u001b[0m\u001b[0m\n\u001b[0m",
      "\u001b[1;31mNameError\u001b[0m: name 'elmento1' is not defined"
     ]
    }
   ],
   "source": [
    "# se puede hacer haciendo referencia a su clave colocándola dentro de corchetes\n",
    "polEspDict = {\n",
    "    \"kwiat\" : \"flor\",\n",
    "    \"woda\"  : \"agua\",\n",
    "    \"gleba\" : \"tierra\"\n",
    "    }\n",
    "\n",
    "elemento1 = polEspDict[\"gleba\"]    # ejemplo 1\n",
    "print(elmento1)    # salida: tierra\n"
   ]
  },
  {
   "cell_type": "code",
   "execution_count": 3,
   "metadata": {},
   "outputs": [
    {
     "name": "stdout",
     "output_type": "stream",
     "text": [
      "agua\n"
     ]
    }
   ],
   "source": [
    "elemento2 = polEspDict.get(\"woda\")\n",
    "print(elemento2)    # salida: agua"
   ]
  },
  {
   "cell_type": "code",
   "execution_count": 6,
   "metadata": {},
   "outputs": [
    {
     "name": "stdout",
     "output_type": "stream",
     "text": [
      "{'Adan': 3456783958}\n",
      "{}\n"
     ]
    }
   ],
   "source": [
    "# agregar o eliminar una clave (junto con su valor asociado)\n",
    "miDirectorioTelefonico = {}    # un diccionario vacio\n",
    "\n",
    "miDirectorioTelefonico [\"Adan\"] = 3456783958    # crear o añadir un par clave-valor\n",
    "print(miDirectorioTelefonico)    # salida: {'Adan': 3456783958}\n",
    "\n",
    "del miDirectorioTelefonico [\"Adan\"]\n",
    "print(miDirectorioTelefonico)    # salida: {}"
   ]
  },
  {
   "cell_type": "code",
   "execution_count": 7,
   "metadata": {},
   "outputs": [
    {
     "ename": "SyntaxError",
     "evalue": "invalid syntax (<ipython-input-7-60069e8201d9>, line 4)",
     "output_type": "error",
     "traceback": [
      "\u001b[1;36m  File \u001b[1;32m\"<ipython-input-7-60069e8201d9>\"\u001b[1;36m, line \u001b[1;32m4\u001b[0m\n\u001b[1;33m    polEspDict = update(\"gleba\" : \"tierra\")\u001b[0m\n\u001b[1;37m                                ^\u001b[0m\n\u001b[1;31mSyntaxError\u001b[0m\u001b[1;31m:\u001b[0m invalid syntax\n"
     ]
    }
   ],
   "source": [
    "# se puede insertar un elemento a un diccionario utilizando el método update(), y eliminar el ultimo elemento con el método popitem()\n",
    "polEspDict = {\"kwiat\" : \"flor\"}\n",
    "\n",
    "polEspDict = update(\"gleba\" : \"tierra\")\n",
    "print(polEspDict)    # salida: {'kwiat' : 'flor', 'gleba' : 'tierra'}\n",
    "\n",
    "polEspDict.popitem()\n",
    "print(polEspDict)    # outputs: {'kwiat' : 'flor'}"
   ]
  },
  {
   "cell_type": "code",
   "execution_count": 8,
   "metadata": {},
   "outputs": [
    {
     "name": "stdout",
     "output_type": "stream",
     "text": [
      "zamek\n",
      "woda\n",
      "gleba\n"
     ]
    }
   ],
   "source": [
    "#  Se puede emplear el bucle for para iterar a través del diccionario\n",
    "polEspDict = {\n",
    "    \"zamek\" : \"castillo\",\n",
    "    \"woda\"  : \"agua\",\n",
    "    \"gleba\" : \"tierra\"\n",
    "    }\n",
    "\n",
    "for item in polEspDict:\n",
    "    print(item)    # salida: zamek\n",
    "                   #          woda\n",
    "                   #          gleba"
   ]
  },
  {
   "cell_type": "code",
   "execution_count": 9,
   "metadata": {},
   "outputs": [
    {
     "name": "stdout",
     "output_type": "stream",
     "text": [
      "Pol/Esp -> zamek : castillo\n",
      "Pol/Esp -> woda : agua\n",
      "Pol/Esp -> gleba : tierra\n"
     ]
    }
   ],
   "source": [
    "#método items()\n",
    "\n",
    "polEspDict = {\n",
    "    \"zamek\" : \"castillo\",\n",
    "    \"woda\"  : \"agua\",\n",
    "    \"gleba\" : \"tierra\"\n",
    "    }\n",
    "\n",
    "for clave, valor in polEspDict.items():\n",
    "    print(\"Pol/Esp ->\", clave, \":\", valor)"
   ]
  },
  {
   "cell_type": "code",
   "execution_count": 10,
   "metadata": {},
   "outputs": [
    {
     "name": "stdout",
     "output_type": "stream",
     "text": [
      "SI\n"
     ]
    }
   ],
   "source": [
    "# Para comprobar si una clave existe en un diccionario, se puede emplear la palabra reservada in\n",
    "\n",
    "polEspDict = {\n",
    "    \"zamek\" : \"castillo\",\n",
    "    \"woda\"  : \"agua\",\n",
    "    \"gleba\" : \"tierra\"\n",
    "    }\n",
    "\n",
    "if \"zamek\" in polEspDict:\n",
    "    print(\"SI\")\n",
    "else:\n",
    "    print(\"NO\")"
   ]
  },
  {
   "cell_type": "code",
   "execution_count": 11,
   "metadata": {},
   "outputs": [
    {
     "name": "stdout",
     "output_type": "stream",
     "text": [
      "3\n",
      "2\n",
      "0\n"
     ]
    }
   ],
   "source": [
    "# Se puede emplear la palabra reservada del para eliminar un elemento, o un diccionario entero. \n",
    "# Para eliminar todos los elementos de un diccionario se debe emplear el método clear()\n",
    "polEspDict = {\n",
    "    \"zamek\" : \"castillo\",\n",
    "    \"woda\"  : \"agua\",\n",
    "    \"gleba\" : \"tierra\"\n",
    "    }\n",
    "\n",
    "print(len(polEspDict))    # salida: 3\n",
    "del polEspDict[\"zamek\"]    # elimina un elemento\n",
    "print(len(polEspDict))    # salida: 2\n",
    "\n",
    "polEspDict.clear()   # elimina todos los elementos\n",
    "print(len(polEspDict))    # salida: 0\n",
    "\n",
    "del polEspDict    # elimina el diccionario"
   ]
  },
  {
   "cell_type": "code",
   "execution_count": 12,
   "metadata": {},
   "outputs": [],
   "source": [
    "# Para copiar un diccionario, emplea el método copy()\n",
    "\n",
    "polEspDict = {\n",
    "    \"zamek\" : \"castillo\",\n",
    "    \"woda\"  : \"agua\",\n",
    "    \"gleba\" : \"tierra\"\n",
    "    }\n",
    "\n",
    "copyDict = polEspDict.copy()"
   ]
  },
  {
   "cell_type": "code",
   "execution_count": null,
   "metadata": {},
   "outputs": [],
   "source": []
  }
 ],
 "metadata": {
  "kernelspec": {
   "display_name": "Python 3",
   "language": "python",
   "name": "python3"
  },
  "language_info": {
   "codemirror_mode": {
    "name": "ipython",
    "version": 3
   },
   "file_extension": ".py",
   "mimetype": "text/x-python",
   "name": "python",
   "nbconvert_exporter": "python",
   "pygments_lexer": "ipython3",
   "version": "3.8.3"
  }
 },
 "nbformat": 4,
 "nbformat_minor": 4
}
