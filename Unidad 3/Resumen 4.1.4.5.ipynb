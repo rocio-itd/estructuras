{
 "cells": [
  {
   "cell_type": "code",
   "execution_count": 1,
   "metadata": {},
   "outputs": [
    {
     "name": "stdout",
     "output_type": "stream",
     "text": [
      "14\n"
     ]
    }
   ],
   "source": [
    "#  variable que existe fuera de una función tiene alcance dentro del cuerpo de la función\n",
    "var = 2\n",
    "\n",
    "def multByVar(x):\n",
    "    return x * var\n",
    "\n",
    "print(multByVar(7))    # salida: 14"
   ]
  },
  {
   "cell_type": "code",
   "execution_count": 2,
   "metadata": {},
   "outputs": [
    {
     "name": "stdout",
     "output_type": "stream",
     "text": [
      "35\n"
     ]
    }
   ],
   "source": [
    "#  la función define una variable con el mismo nombre\n",
    "def mult(x):\n",
    "    var = 5\n",
    "    return x * var\n",
    "\n",
    "print(mult(7))    # salida: 35"
   ]
  },
  {
   "cell_type": "code",
   "execution_count": 3,
   "metadata": {},
   "outputs": [
    {
     "name": "stdout",
     "output_type": "stream",
     "text": [
      "49\n"
     ]
    }
   ],
   "source": [
    "def multip(x):\n",
    "    var = 7\n",
    "    return x * var\n",
    "\n",
    "var = 3\n",
    "print(multip(7))    # salida: 49"
   ]
  },
  {
   "cell_type": "code",
   "execution_count": 4,
   "metadata": {},
   "outputs": [
    {
     "name": "stdout",
     "output_type": "stream",
     "text": [
      "11\n",
      "3\n"
     ]
    }
   ],
   "source": [
    "#variable que existe dentro de una función tiene un alcance solo dentro del cuerpo de la función\n",
    "def sum(x):\n",
    "    var = 7\n",
    "    return x + var\n",
    "\n",
    "print(sum(4))    # salida: 11\n",
    "\n",
    "print(var)    # NameError"
   ]
  },
  {
   "cell_type": "code",
   "execution_count": 5,
   "metadata": {},
   "outputs": [
    {
     "name": "stdout",
     "output_type": "stream",
     "text": [
      "2\n",
      "5\n",
      "5\n"
     ]
    }
   ],
   "source": [
    "# Se puede emplear la palabra reservada global seguida por el nombre de una variable\n",
    "# para que el alcance de la variable sea global\n",
    "var = 2\n",
    "print(var)    # salida: 2\n",
    "\n",
    "def retVar():\n",
    "    global var\n",
    "    var = 5\n",
    "    return var\n",
    "\n",
    "print(retVar())    # salida: 5\n",
    "\n",
    "print(var)    # salida: 5"
   ]
  },
  {
   "cell_type": "code",
   "execution_count": 6,
   "metadata": {},
   "outputs": [
    {
     "ename": "NameError",
     "evalue": "name 'alt' is not defined",
     "output_type": "error",
     "traceback": [
      "\u001b[1;31m---------------------------------------------------------------------------\u001b[0m",
      "\u001b[1;31mNameError\u001b[0m                                 Traceback (most recent call last)",
      "\u001b[1;32m<ipython-input-6-99228bb8a9f8>\u001b[0m in \u001b[0;36m<module>\u001b[1;34m\u001b[0m\n\u001b[0;32m      4\u001b[0m     \u001b[0mprint\u001b[0m\u001b[1;33m(\u001b[0m\u001b[1;34m\"Hola, mundo!\"\u001b[0m\u001b[1;33m)\u001b[0m\u001b[1;33m\u001b[0m\u001b[1;33m\u001b[0m\u001b[0m\n\u001b[0;32m      5\u001b[0m \u001b[1;33m\u001b[0m\u001b[0m\n\u001b[1;32m----> 6\u001b[1;33m \u001b[0mprint\u001b[0m\u001b[1;33m(\u001b[0m\u001b[0malt\u001b[0m\u001b[1;33m)\u001b[0m\u001b[1;33m\u001b[0m\u001b[1;33m\u001b[0m\u001b[0m\n\u001b[0m",
      "\u001b[1;31mNameError\u001b[0m: name 'alt' is not defined"
     ]
    }
   ],
   "source": [
    "# Ejercicio 1\n",
    "def message():\n",
    "    alt = 1\n",
    "    print(\"Hola, mundo!\")\n",
    "\n",
    "print(alt)"
   ]
  },
  {
   "cell_type": "code",
   "execution_count": 7,
   "metadata": {},
   "outputs": [
    {
     "name": "stdout",
     "output_type": "stream",
     "text": [
      "2\n",
      "1\n"
     ]
    }
   ],
   "source": [
    "# Ejercicio 2\n",
    "a = 1\n",
    "\n",
    "def fun():\n",
    "    a = 2\n",
    "    print(a)\n",
    "\n",
    "fun()\n",
    "print(a)\n"
   ]
  },
  {
   "cell_type": "code",
   "execution_count": 8,
   "metadata": {},
   "outputs": [
    {
     "name": "stdout",
     "output_type": "stream",
     "text": [
      "2\n",
      "3\n"
     ]
    }
   ],
   "source": [
    "# Ejercicio 3\n",
    "a = 1\n",
    "\n",
    "def fun():\n",
    "    global a\n",
    "    a = 2\n",
    "    print(a)\n",
    "\n",
    "fun()\n",
    "a = 3\n",
    "print(a)"
   ]
  },
  {
   "cell_type": "code",
   "execution_count": 9,
   "metadata": {},
   "outputs": [
    {
     "name": "stdout",
     "output_type": "stream",
     "text": [
      "2\n",
      "2\n"
     ]
    }
   ],
   "source": [
    "# Ejercicio 4\n",
    "a = 1\n",
    "\n",
    "def fun():\n",
    "    global a\n",
    "    a = 2\n",
    "    print(a)\n",
    "\n",
    "a = 3\n",
    "fun()\n",
    "print(a)"
   ]
  },
  {
   "cell_type": "code",
   "execution_count": null,
   "metadata": {},
   "outputs": [],
   "source": []
  }
 ],
 "metadata": {
  "kernelspec": {
   "display_name": "Python 3",
   "language": "python",
   "name": "python3"
  },
  "language_info": {
   "codemirror_mode": {
    "name": "ipython",
    "version": 3
   },
   "file_extension": ".py",
   "mimetype": "text/x-python",
   "name": "python",
   "nbconvert_exporter": "python",
   "pygments_lexer": "ipython3",
   "version": "3.8.3"
  }
 },
 "nbformat": 4,
 "nbformat_minor": 4
}
