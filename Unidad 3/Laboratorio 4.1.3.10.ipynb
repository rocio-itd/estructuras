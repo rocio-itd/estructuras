{
 "cells": [
  {
   "cell_type": "markdown",
   "metadata": {},
   "source": [
    "## Convirtiendo el consumo de combustible"
   ]
  },
  {
   "cell_type": "code",
   "execution_count": 2,
   "metadata": {},
   "outputs": [
    {
     "name": "stdout",
     "output_type": "stream",
     "text": [
      "60.31143162393162\n",
      "31.36194444444444\n",
      "23.52145833333333\n",
      "3.9007393587617467\n",
      "7.490910297239916\n",
      "10.009131205673757\n"
     ]
    }
   ],
   "source": [
    "def l100kmtompg(liters):\n",
    "    miles = 100 * 1000 / 1609.344   # 62.1371\n",
    "    gallons = liters / 3.785411784\n",
    "    return miles / gallons\n",
    "\n",
    "def mpgtol100km(miles):\n",
    "    liters = 3.785411784\n",
    "    kilometers = miles * 1609.344 / 1000\n",
    "    km100 = kilometers / 100\n",
    "    return liters / km100\n",
    "\n",
    "print(l100kmtompg(3.9))\n",
    "print(l100kmtompg(7.5))\n",
    "print(l100kmtompg(10.))\n",
    "print(mpgtol100km(60.3))\n",
    "print(mpgtol100km(31.4))\n",
    "print(mpgtol100km(23.5))"
   ]
  },
  {
   "cell_type": "code",
   "execution_count": null,
   "metadata": {},
   "outputs": [],
   "source": []
  }
 ],
 "metadata": {
  "kernelspec": {
   "display_name": "Python 3",
   "language": "python",
   "name": "python3"
  },
  "language_info": {
   "codemirror_mode": {
    "name": "ipython",
    "version": 3
   },
   "file_extension": ".py",
   "mimetype": "text/x-python",
   "name": "python",
   "nbconvert_exporter": "python",
   "pygments_lexer": "ipython3",
   "version": "3.8.3"
  }
 },
 "nbformat": 4,
 "nbformat_minor": 4
}
