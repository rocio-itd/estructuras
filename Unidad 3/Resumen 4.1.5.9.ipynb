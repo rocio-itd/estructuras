{
 "cells": [
  {
   "cell_type": "code",
   "execution_count": 1,
   "metadata": {},
   "outputs": [
    {
     "name": "stdout",
     "output_type": "stream",
     "text": [
      "24\n"
     ]
    }
   ],
   "source": [
    "#Una función puede invocar otras funciones o incluso a sí misma\n",
    "# Cuando una función se invoca a si misma, se le conoce como recursividad,\n",
    "#y la función que se invoca a si misma y contiene una condición de terminación\n",
    "#(la cual le dice a la función que ya no siga invocándose a si misma) es llamada una función recursiva\n",
    "\n",
    "#La función factorial es un ejemplo clásico de como se puede implementar el concepto de recursividad\n",
    "# Implementación recursiva de la función factorial\n",
    "def factorial(n):\n",
    "    if n == 1:    # la condición de terminación\n",
    "        return 1\n",
    "    else:\n",
    "        return n * factorial(n - 1)\n",
    "\n",
    "print(factorial(4)) # 4 * 3 * 2 * 1 = 24"
   ]
  },
  {
   "cell_type": "code",
   "execution_count": null,
   "metadata": {},
   "outputs": [],
   "source": [
    "# ejercicio 1\n",
    "def factorial(n):\n",
    "    return n * factorial(n - 1)\n",
    "\n",
    "print(factorial(4))\n",
    "#error"
   ]
  },
  {
   "cell_type": "code",
   "execution_count": 5,
   "metadata": {},
   "outputs": [
    {
     "name": "stdout",
     "output_type": "stream",
     "text": [
      "56\n"
     ]
    }
   ],
   "source": [
    "# ejercicio 2\n",
    "def fun(a):\n",
    "    if a > 30:\n",
    "        return 3\n",
    "    else:\n",
    "        return a + fun(a + 3)\n",
    "\n",
    "print(fun(25))"
   ]
  },
  {
   "cell_type": "code",
   "execution_count": null,
   "metadata": {},
   "outputs": [],
   "source": []
  }
 ],
 "metadata": {
  "kernelspec": {
   "display_name": "Python 3",
   "language": "python",
   "name": "python3"
  },
  "language_info": {
   "codemirror_mode": {
    "name": "ipython",
    "version": 3
   },
   "file_extension": ".py",
   "mimetype": "text/x-python",
   "name": "python",
   "nbconvert_exporter": "python",
   "pygments_lexer": "ipython3",
   "version": "3.8.3"
  }
 },
 "nbformat": 4,
 "nbformat_minor": 4
}
