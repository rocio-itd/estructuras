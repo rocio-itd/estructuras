{
 "cells": [
  {
   "cell_type": "markdown",
   "metadata": {},
   "source": [
    "### Ejercicios "
   ]
  },
  {
   "cell_type": "code",
   "execution_count": 1,
   "metadata": {},
   "outputs": [
    {
     "name": "stdout",
     "output_type": "stream",
     "text": [
      "3\n"
     ]
    }
   ],
   "source": [
    "# Ejercicio 1\n",
    "miTup = (1, 2, 3)\n",
    "print(miTup[2])\n"
   ]
  },
  {
   "cell_type": "code",
   "execution_count": 2,
   "metadata": {},
   "outputs": [
    {
     "name": "stdout",
     "output_type": "stream",
     "text": [
      "6\n"
     ]
    }
   ],
   "source": [
    "# Ejercicio 2\n",
    "tup = 1, 2, 3\n",
    "a, b, c = tup\n",
    "\n",
    "print(a * b * c)"
   ]
  },
  {
   "cell_type": "code",
   "execution_count": 16,
   "metadata": {},
   "outputs": [
    {
     "name": "stdout",
     "output_type": "stream",
     "text": [
      "4\n"
     ]
    }
   ],
   "source": [
    "# Ejercicio 3\n",
    "tup = 1, 2, 3, 2, 4, 5, 6, 2, 7, 2, 8, 9\n",
    "duplicado = tup.count(2)\n",
    "\n",
    "print(duplicado)    # salida: 4"
   ]
  },
  {
   "cell_type": "code",
   "execution_count": 14,
   "metadata": {},
   "outputs": [
    {
     "name": "stdout",
     "output_type": "stream",
     "text": [
      "{'Adam Smith': 'A', 'Judy Paxton': 'B+', 'Mary Louis': 'A', 'Patrick White': 'C'}\n"
     ]
    }
   ],
   "source": [
    "# Ejercicio 4\n",
    "d1 = {'Adam Smith':'A', 'Judy Paxton':'B+'}\n",
    "d2 = {'Mary Louis':'A', 'Patrick White':'C'}\n",
    "d3 = {}\n",
    "\n",
    "for elemento in (d1, d2):\n",
    "    d3.update(elemento)\n",
    "\n",
    "print(d3)"
   ]
  },
  {
   "cell_type": "code",
   "execution_count": 13,
   "metadata": {},
   "outputs": [
    {
     "name": "stdout",
     "output_type": "stream",
     "text": [
      "('carro', 'Ford', 'flor', 'Tulipán')\n"
     ]
    }
   ],
   "source": [
    "# Ejercicio 5\n",
    "l = [\"carro\", \"Ford\", \"flor\", \"Tulipán\"]\n",
    "\n",
    "t = tuple(l)\n",
    "\n",
    "print(t)"
   ]
  },
  {
   "cell_type": "code",
   "execution_count": 12,
   "metadata": {},
   "outputs": [
    {
     "name": "stdout",
     "output_type": "stream",
     "text": [
      "{'verde': '#008000', 'azul': '#0000FF'}\n"
     ]
    }
   ],
   "source": [
    "# Ejercicio 6\n",
    "colores = ((\"verde\", \"#008000\"), (\"azul\", \"#0000FF\"))\n",
    "\n",
    "colDict = dict(colores)\n",
    "\n",
    "print(colDict)"
   ]
  },
  {
   "cell_type": "code",
   "execution_count": 11,
   "metadata": {},
   "outputs": [
    {
     "name": "stdout",
     "output_type": "stream",
     "text": [
      "{'A': 1, 'B': 2}\n"
     ]
    }
   ],
   "source": [
    "# Ejercicio 7\n",
    "miDict = {\"A\":1, \"B\":2}\n",
    "copyMiDict = miDict.copy()\n",
    "miDict.clear()\n",
    "\n",
    "print(copyMiDict)"
   ]
  },
  {
   "cell_type": "code",
   "execution_count": 8,
   "metadata": {},
   "outputs": [
    {
     "name": "stdout",
     "output_type": "stream",
     "text": [
      "blanco : (255, 255, 255)\n",
      "gris : (128, 128, 128)\n",
      "rojo : (255, 0, 0)\n",
      "verde : (0, 128, 0)\n"
     ]
    }
   ],
   "source": [
    "# Ejercicio 8\n",
    "colores = {\n",
    "    \"blanco\" : (255, 255, 255),\n",
    "    \"gris\"   : (128, 128, 128),\n",
    "    \"rojo\"   : (255, 0, 0),\n",
    "    \"verde\"  : (0, 128, 0)\n",
    "    }\n",
    "\n",
    "for col, rgb in colores.items():\n",
    "    print(col, \":\", rgb)"
   ]
  },
  {
   "cell_type": "code",
   "execution_count": null,
   "metadata": {},
   "outputs": [],
   "source": []
  }
 ],
 "metadata": {
  "kernelspec": {
   "display_name": "Python 3",
   "language": "python",
   "name": "python3"
  },
  "language_info": {
   "codemirror_mode": {
    "name": "ipython",
    "version": 3
   },
   "file_extension": ".py",
   "mimetype": "text/x-python",
   "name": "python",
   "nbconvert_exporter": "python",
   "pygments_lexer": "ipython3",
   "version": "3.8.3"
  }
 },
 "nbformat": 4,
 "nbformat_minor": 4
}
