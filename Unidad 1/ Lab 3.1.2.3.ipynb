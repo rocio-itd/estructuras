{
 "cells": [
  {
   "cell_type": "code",
   "execution_count": 23,
   "metadata": {},
   "outputs": [
    {
     "name": "stdout",
     "output_type": "stream",
     "text": [
      "\n",
      "+==================================+\n",
      "| Bienvenido a mi juego, muggle!   |\n",
      "| Introduce un número entero       |\n",
      "| y adivina qué número he          |\n",
      "| elegido para ti.                 |\n",
      "| Entonces,                        |\n",
      "| ¿Cuál es el número secreto?      |\n",
      "+==================================+\n",
      "\n",
      "77\n",
      "¡Ja, ja! ¡Estás atrapado en mi ciclo!\n",
      "777\n",
      "¡Bien hecho, muggle! Eres libre ahora\n"
     ]
    }
   ],
   "source": [
    "numeroSecreto = 777\n",
    "\n",
    "print(\n",
    "\"\"\"\n",
    "+==================================+\n",
    "| Bienvenido a mi juego, muggle!   |\n",
    "| Introduce un número entero       |\n",
    "| y adivina qué número he          |\n",
    "| elegido para ti.                 |\n",
    "| Entonces,                        |\n",
    "| ¿Cuál es el número secreto?      |\n",
    "+==================================+\n",
    "\"\"\")\n",
    "\n",
    "i = 0\n",
    "while i < 15:\n",
    "    a = input()\n",
    "    a = int(a)\n",
    "    i = i + 1\n",
    "    if a == numeroSecreto:\n",
    "        break\n",
    "    if a != numeroSecreto:\n",
    "        print(\"¡Ja, ja! ¡Estás atrapado en mi ciclo!\")\n",
    "        \n",
    "        \n",
    "if a == numeroSecreto:\n",
    "    i = str(i)\n",
    "    print(\"¡Bien hecho, muggle! Eres libre ahora\")\n",
    "\n",
    "if a != numeroSecreto:\n",
    "    numeroSecreto = str(numeroSecreto)"
   ]
  },
  {
   "cell_type": "code",
   "execution_count": null,
   "metadata": {},
   "outputs": [],
   "source": []
  }
 ],
 "metadata": {
  "kernelspec": {
   "display_name": "Python 3",
   "language": "python",
   "name": "python3"
  },
  "language_info": {
   "codemirror_mode": {
    "name": "ipython",
    "version": 3
   },
   "file_extension": ".py",
   "mimetype": "text/x-python",
   "name": "python",
   "nbconvert_exporter": "python",
   "pygments_lexer": "ipython3",
   "version": "3.8.3"
  }
 },
 "nbformat": 4,
 "nbformat_minor": 4
}
