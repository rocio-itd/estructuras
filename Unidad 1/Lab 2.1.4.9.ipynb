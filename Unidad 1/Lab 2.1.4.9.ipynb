{
 "cells": [
  {
   "cell_type": "code",
   "execution_count": 9,
   "metadata": {},
   "outputs": [
    {
     "name": "stdout",
     "output_type": "stream",
     "text": [
      "7.38  millas son  11.88  kilómetros \n",
      "12.25  kilómetros son  7.61  millas \n"
     ]
    }
   ],
   "source": [
    "kilometros = 12.25\n",
    "millas = 7.38\n",
    "\n",
    "millas_a_kilometros = millas * 1.61\n",
    "kilometros_a_millas = kilometros * 0.62137\n",
    "\n",
    "print(millas, \" millas son \", round(millas_a_kilometros, 2), \" kilómetros \")\n",
    "print(kilometros, \" kilómetros son \", round(kilometros_a_millas, 2), \" millas \")"
   ]
  },
  {
   "cell_type": "code",
   "execution_count": null,
   "metadata": {},
   "outputs": [],
   "source": []
  }
 ],
 "metadata": {
  "kernelspec": {
   "display_name": "Python 3",
   "language": "python",
   "name": "python3"
  },
  "language_info": {
   "codemirror_mode": {
    "name": "ipython",
    "version": 3
   },
   "file_extension": ".py",
   "mimetype": "text/x-python",
   "name": "python",
   "nbconvert_exporter": "python",
   "pygments_lexer": "ipython3",
   "version": "3.8.3"
  }
 },
 "nbformat": 4,
 "nbformat_minor": 4
}
