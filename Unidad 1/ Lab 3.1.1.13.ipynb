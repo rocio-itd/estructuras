{
 "cells": [
  {
   "cell_type": "code",
   "execution_count": 29,
   "metadata": {},
   "outputs": [
    {
     "name": "stdout",
     "output_type": "stream",
     "text": [
      "Introduzca un año:1999\n",
      "Año común\n"
     ]
    }
   ],
   "source": [
    "año = int(input(\"Introduzca un año:\"))\n",
    "\n",
    "if año < 1582:\n",
    "    print (\"No dentro del periodo del calendario gregoriano\")\n",
    "elif año % 4 != 0:\n",
    "    print(\"Año común\")\n",
    "elif año % 100 != 0:\n",
    "    print (\"Año bisiesto\")\n",
    "elif año % 400 != 0:\n",
    "    print(\"Año común\")\n",
    "else:\n",
    "    print (\"Año bisiesto\")\n"
   ]
  },
  {
   "cell_type": "code",
   "execution_count": null,
   "metadata": {},
   "outputs": [],
   "source": []
  }
 ],
 "metadata": {
  "kernelspec": {
   "display_name": "Python 3",
   "language": "python",
   "name": "python3"
  },
  "language_info": {
   "codemirror_mode": {
    "name": "ipython",
    "version": 3
   },
   "file_extension": ".py",
   "mimetype": "text/x-python",
   "name": "python",
   "nbconvert_exporter": "python",
   "pygments_lexer": "ipython3",
   "version": "3.8.3"
  }
 },
 "nbformat": 4,
 "nbformat_minor": 4
}
