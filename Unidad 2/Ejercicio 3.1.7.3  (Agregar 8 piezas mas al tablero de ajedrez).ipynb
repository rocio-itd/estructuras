{
 "cells": [
  {
   "cell_type": "code",
   "execution_count": 1,
   "metadata": {},
   "outputs": [
    {
     "name": "stdout",
     "output_type": "stream",
     "text": [
      "[['TORRE', 'CABALLO', 'ALFIL', 'REY', 'REINA', 'ALFIL', 'CABALLO', 'TORRE'], ['-', '-', '-', '-', '-', '-', '-', '-'], ['-', '-', '-', '-', '-', '-', '-', '-'], ['-', '-', '-', '-', '-', '-', '-', '-'], ['-', '-', '-', '-', '-', '-', '-', '-'], ['-', '-', '-', '-', '-', '-', '-', '-'], ['-', '-', '-', '-', '-', '-', '-', '-'], ['TORRE', 'CABALLO', 'ALFIL', 'REY', 'REINA', 'ALFIL', 'CABALLO', 'TORRE']]\n"
     ]
    }
   ],
   "source": [
    "EMPTY = \"-\"\n",
    "TORRE = \"TORRE\"\n",
    "CABALLO = \"CABALLO\"\n",
    "ALFIL = \"ALFIL\"\n",
    "REY = \"REY\"\n",
    "REINA = \"REINA\"\n",
    "tablero = []\n",
    "\n",
    "for i in range(8):\n",
    "    fila = [EMPTY for i in range(8)]\n",
    "    tablero.append (fila)\n",
    "\n",
    "tablero[0][0] = TORRE\n",
    "tablero[0][7] = TORRE\n",
    "tablero[7][0] = TORRE\n",
    "tablero[7][7] = TORRE\n",
    "tablero[0][1] = CABALLO\n",
    "tablero[0][6] = CABALLO\n",
    "tablero[7][1] = CABALLO\n",
    "tablero[7][6] = CABALLO\n",
    "tablero[0][2] = ALFIL\n",
    "tablero[0][5] = ALFIL\n",
    "tablero[7][2] = ALFIL\n",
    "tablero[7][5] = ALFIL\n",
    "tablero[0][3] = REY\n",
    "tablero[7][3] = REY\n",
    "tablero[0][4] = REINA\n",
    "tablero[7][4] = REINA\n",
    "\n",
    "\n",
    "print(tablero)"
   ]
  },
  {
   "cell_type": "code",
   "execution_count": null,
   "metadata": {},
   "outputs": [],
   "source": []
  }
 ],
 "metadata": {
  "kernelspec": {
   "display_name": "Python 3",
   "language": "python",
   "name": "python3"
  },
  "language_info": {
   "codemirror_mode": {
    "name": "ipython",
    "version": 3
   },
   "file_extension": ".py",
   "mimetype": "text/x-python",
   "name": "python",
   "nbconvert_exporter": "python",
   "pygments_lexer": "ipython3",
   "version": "3.8.3"
  }
 },
 "nbformat": 4,
 "nbformat_minor": 4
}
